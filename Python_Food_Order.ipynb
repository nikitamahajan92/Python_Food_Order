{
  "nbformat": 4,
  "nbformat_minor": 0,
  "metadata": {
    "colab": {
      "provenance": [],
      "authorship_tag": "ABX9TyPdcuv1CgzQD3EkVRzqp6OZ",
      "include_colab_link": true
    },
    "kernelspec": {
      "name": "python3",
      "display_name": "Python 3"
    },
    "language_info": {
      "name": "python"
    }
  },
  "cells": [
    {
      "cell_type": "markdown",
      "metadata": {
        "id": "view-in-github",
        "colab_type": "text"
      },
      "source": [
        "<a href=\"https://colab.research.google.com/github/nikitamahajan92/Python_Food_Order/blob/main/Python_Food_Order.ipynb\" target=\"_parent\"><img src=\"https://colab.research.google.com/assets/colab-badge.svg\" alt=\"Open In Colab\"/></a>"
      ]
    },
    {
      "cell_type": "code",
      "execution_count": null,
      "metadata": {
        "colab": {
          "base_uri": "https://localhost:8080/"
        },
        "id": "XlFa92_foyJ2",
        "outputId": "40204bb3-7d75-4ede-810b-aa3a1021cd34"
      },
      "outputs": [
        {
          "output_type": "stream",
          "name": "stdout",
          "text": [
            "Welcome to our food shop! We have the following items on our menu:\n",
            "Burger - Rs 50\n",
            "Fries - Rs 40\n",
            "Pizza - Rs 100\n",
            "Cold drink - Rs 20\n",
            "Shake - Rs 50\n",
            "Please enter an item from the menu (or 'done' to finish): Pizza\n",
            "How many Pizzas would you like? 4\n",
            "Please enter an item from the menu (or 'done' to finish): Cold drink\n",
            "How many Cold drinks would you like? 2\n",
            "Please enter an item from the menu (or 'done' to finish): Fries \n",
            "Sorry, that item is not on the menu.\n",
            "Please enter an item from the menu (or 'done' to finish): 4\n",
            "Sorry, that item is not on the menu.\n",
            "Please enter an item from the menu (or 'done' to finish): Burger \n",
            "Sorry, that item is not on the menu.\n",
            "Please enter an item from the menu (or 'done' to finish): done\n",
            "Thank you for your order!\n",
            "Would you like to eat here or home delivery (15% delivery charge)? home delivery\n",
            "\n",
            "Here is your bill:\n",
            "Pizza x 4 = Rs 400\n",
            "Cold drink x 2 = Rs 40\n",
            "Delivery charge (15%) = Rs 76\n",
            "Total = Rs 506.0\n",
            "\n",
            "Thank you for visiting our food shop! Please come again.\n"
          ]
        }
      ],
      "source": [
        "#!/usr/bin/env python\n",
        "# coding: utf-8\n",
        "\n",
        "# In[ ]:\n",
        "\n",
        "\n",
        "# Welcome message\n",
        "print(\"Welcome to our food shop! We have the following items on our menu:\")\n",
        "\n",
        "# Menu\n",
        "menu = {\n",
        "    \"Burger\": 50,\n",
        "    \"Fries\": 40,\n",
        "    \"Pizza\": 100,\n",
        "    \"Cold drink\": 20,\n",
        "    \"Shake\": 50\n",
        "}\n",
        "\n",
        "for item, price in menu.items():\n",
        "    print(f\"{item} - Rs {price}\")\n",
        "\n",
        "# Take order\n",
        "order = {}\n",
        "total = 0\n",
        "\n",
        "while True:\n",
        "    item = input(\"Please enter an item from the menu (or 'done' to finish): \")\n",
        "    if item == \"done\":\n",
        "        break\n",
        "    elif item not in menu:\n",
        "        print(\"Sorry, that item is not on the menu.\")\n",
        "        continue\n",
        "\n",
        "    quantity = int(input(f\"How many {item}s would you like? \"))\n",
        "    order[item] = quantity\n",
        "    total += quantity * menu[item]\n",
        "\n",
        "# Eating option\n",
        "print(\"Thank you for your order!\")\n",
        "eating_option = input(\"Would you like to eat here or home delivery (15% delivery charge)? \")\n",
        "\n",
        "# Bill\n",
        "if eating_option == \"eat here\":\n",
        "    print(\"\\nHere is your bill:\")\n",
        "    for item, quantity in order.items():\n",
        "        print(f\"{item} x {quantity} = Rs {menu[item] * quantity}\")\n",
        "    print(\"Total = Rs\", total)\n",
        "else:\n",
        "    total *= 1.15 # Add 15% delivery charge\n",
        "    print(\"\\nHere is your bill:\")\n",
        "    for item, quantity in order.items():\n",
        "        print(f\"{item} x {quantity} = Rs {menu[item] * quantity}\")\n",
        "    print(\"Delivery charge (15%) = Rs\", round(total*0.15))\n",
        "    print(\"Total = Rs\", round(total, 2))\n",
        "\n",
        "# Thank you message\n",
        "print(\"\\nThank you for visiting our food shop! Please come again.\")\n",
        "\n",
        "\n",
        "# In[ ]:\n",
        "\n",
        "\n",
        "\n"
      ]
    },
    {
      "cell_type": "code",
      "source": [],
      "metadata": {
        "id": "CEHFZQ6Go0OJ"
      },
      "execution_count": null,
      "outputs": []
    }
  ]
}